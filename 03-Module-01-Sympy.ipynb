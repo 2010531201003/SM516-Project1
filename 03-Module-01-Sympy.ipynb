{
 "cells": [
  {
   "cell_type": "code",
   "execution_count": 2,
   "metadata": {},
   "outputs": [],
   "source": [
    "from sympy import *"
   ]
  },
  {
   "cell_type": "code",
   "execution_count": 4,
   "metadata": {},
   "outputs": [],
   "source": [
    "init_printing( )"
   ]
  },
  {
   "cell_type": "code",
   "execution_count": 5,
   "metadata": {},
   "outputs": [],
   "source": [
    "x , y , z = symbols('x y z')"
   ]
  },
  {
   "cell_type": "code",
   "execution_count": 6,
   "metadata": {},
   "outputs": [],
   "source": [
    "expr =  exp(x*y*z)"
   ]
  },
  {
   "cell_type": "code",
   "execution_count": 7,
   "metadata": {},
   "outputs": [],
   "source": [
    "partd = Derivative(expr , x , 3 , y , 7 , z , 10)"
   ]
  },
  {
   "cell_type": "code",
   "execution_count": 9,
   "metadata": {},
   "outputs": [
    {
     "data": {
      "image/png": "[encoded data removed]",
      "text/latex": [
       "$\\displaystyle \\frac{\\partial^{20}}{\\partial z^{10}\\partial y^{7}\\partial x^{3}} e^{x y z} = x^{7} y^{3} \\left(x^{10} y^{10} z^{10} + 121 x^{9} y^{9} z^{9} + 6066 x^{8} y^{8} z^{8} + 164730 x^{7} y^{7} z^{7} + 2660700 x^{6} y^{6} z^{6} + 26433540 x^{5} y^{5} z^{5} + 161511840 x^{4} y^{4} z^{4} + 589710240 x^{3} y^{3} z^{3} + 1205668800 x^{2} y^{2} z^{2} + 1211112000 x y z + 435456000\\right) e^{x y z}$"
      ],
      "text/plain": [
       "     20                                                                       \n",
       "    ∂       ⎛ x⋅y⋅z⎞    7  3 ⎛ 10  10  10        9  9  9         8  8  8      \n",
       "────────────⎝ℯ     ⎠ = x ⋅y ⋅⎝x  ⋅y  ⋅z   + 121⋅x ⋅y ⋅z  + 6066⋅x ⋅y ⋅z  + 164\n",
       "  10   7   3                                                                  \n",
       "∂z   ∂y  ∂x                                                                   \n",
       "\n",
       "                                                                              \n",
       "     7  7  7            6  6  6             5  5  5              4  4  4      \n",
       "730⋅x ⋅y ⋅z  + 2660700⋅x ⋅y ⋅z  + 26433540⋅x ⋅y ⋅z  + 161511840⋅x ⋅y ⋅z  + 589\n",
       "                                                                              \n",
       "                                                                              \n",
       "\n",
       "                                                                            \n",
       "        3  3  3               2  2  2                               ⎞  x⋅y⋅z\n",
       "710240⋅x ⋅y ⋅z  + 1205668800⋅x ⋅y ⋅z  + 1211112000⋅x⋅y⋅z + 435456000⎠⋅ℯ     \n",
       "                                                                            \n",
       "                                                                            "
      ]
     },
     "execution_count": 9,
     "metadata": {},
     "output_type": "execute_result"
    }
   ],
   "source": [
    "Eq( partd , partd.doit( ) )"
   ]
  },
  {
   "cell_type": "code",
   "execution_count": 10,
   "metadata": {},
   "outputs": [
    {
     "data": {
      "image/png": "[encoded data removed]",
      "text/latex": [
       "$\\displaystyle x + y$"
      ],
      "text/plain": [
       "x + y"
      ]
     },
     "execution_count": 10,
     "metadata": {},
     "output_type": "execute_result"
    }
   ],
   "source": [
    "x+y"
   ]
  },
  {
   "cell_type": "code",
   "execution_count": 12,
   "metadata": {},
   "outputs": [
    {
     "data": {
      "image/png": "[encoded data removed]",
      "text/latex": [
       "$\\displaystyle - \\frac{e^{- x} \\sin{\\left(x \\right)}}{2} - \\frac{e^{- x} \\cos{\\left(x \\right)}}{2} = x^{7} y^{3} \\left(x^{10} y^{10} z^{10} + 121 x^{9} y^{9} z^{9} + 6066 x^{8} y^{8} z^{8} + 164730 x^{7} y^{7} z^{7} + 2660700 x^{6} y^{6} z^{6} + 26433540 x^{5} y^{5} z^{5} + 161511840 x^{4} y^{4} z^{4} + 589710240 x^{3} y^{3} z^{3} + 1205668800 x^{2} y^{2} z^{2} + 1211112000 x y z + 435456000\\right) e^{x y z}$"
      ],
      "text/plain": [
       "   -x           -x                                                            \n",
       "  ℯ  ⋅sin(x)   ℯ  ⋅cos(x)    7  3 ⎛ 10  10  10        9  9  9         8  8  8 \n",
       "- ────────── - ────────── = x ⋅y ⋅⎝x  ⋅y  ⋅z   + 121⋅x ⋅y ⋅z  + 6066⋅x ⋅y ⋅z  \n",
       "      2            2                                                          \n",
       "\n",
       "                                                                              \n",
       "          7  7  7            6  6  6             5  5  5              4  4  4 \n",
       "+ 164730⋅x ⋅y ⋅z  + 2660700⋅x ⋅y ⋅z  + 26433540⋅x ⋅y ⋅z  + 161511840⋅x ⋅y ⋅z  \n",
       "                                                                              \n",
       "\n",
       "                                                                              \n",
       "             3  3  3               2  2  2                               ⎞  x⋅\n",
       "+ 589710240⋅x ⋅y ⋅z  + 1205668800⋅x ⋅y ⋅z  + 1211112000⋅x⋅y⋅z + 435456000⎠⋅ℯ  \n",
       "                                                                              \n",
       "\n",
       "   \n",
       "y⋅z\n",
       "   \n",
       "   "
      ]
     },
     "execution_count": 12,
     "metadata": {},
     "output_type": "execute_result"
    }
   ],
   "source": [
    "expr = integrate(exp(-x)*sin(x), x)\n",
    "Eq( expr , partd.doit( ) )"
   ]
  },
  {
   "cell_type": "markdown",
   "metadata": {},
   "source": [
    "12\n"
   ]
  },
  {
   "cell_type": "code",
   "execution_count": null,
   "metadata": {},
   "outputs": [],
   "source": []
  }
 ],
 "metadata": {
  "kernelspec": {
   "display_name": "Python 3",
   "language": "python",
   "name": "python3"
  },
  "language_info": {
   "codemirror_mode": {
    "name": "ipython",
    "version": 3
   },
   "file_extension": ".py",
   "mimetype": "text/x-python",
   "name": "python",
   "nbconvert_exporter": "python",
   "pygments_lexer": "ipython3",
   "version": "3.8.7"
  }
 },
 "nbformat": 4,
 "nbformat_minor": 4
}
